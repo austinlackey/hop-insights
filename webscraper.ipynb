{
 "cells": [
  {
   "cell_type": "code",
   "execution_count": 80,
   "metadata": {},
   "outputs": [
    {
     "name": "stdout",
     "output_type": "stream",
     "text": [
      "0\n"
     ]
    }
   ],
   "source": [
    "import requests\n",
    "from bs4 import BeautifulSoup\n",
    "import time\n",
    "import pandas as pd\n",
    "import numpy as np\n",
    "\n",
    "\n",
    "# Create a class to store hop data with 11 variables\n",
    "\n",
    "class Hop:\n",
    "        # def __init__(self, name, alpha_acid = 0, beta_acid = 0, alpha_beta_ratio = 0, hop_storage_index = 0, co_humulone = 0, total_oils = 0, myrcene = 0, humulene = 0, caryophyllene = 0, farnesene = 0, all_others = 0): \n",
    "        def __init__(self, name, data):\n",
    "            self.name = name\n",
    "            self.alpha_acid = {'min': 0, 'max': 0, 'avg': 0}\n",
    "            self.beta_acid = {'min': 0, 'max': 0, 'avg': 0}\n",
    "            self.alpha_beta_ratio = {'min': 0, 'max': 0, 'avg': 0}\n",
    "            self.hop_storage_index = {'avg': 0}\n",
    "            self.co_humulone = {'min': 0, 'max': 0, 'avg': 0}\n",
    "            self.total_oils = {'min': 0, 'max': 0, 'avg': 0}\n",
    "            self.myrcene = {'min': 0, 'max': 0, 'avg': 0}\n",
    "            self.humulene = {'min': 0, 'max': 0, 'avg': 0}\n",
    "            self.caryophyllene = {'min': 0, 'max': 0, 'avg': 0}\n",
    "            self.farnesene = {'min': 0, 'max': 0, 'avg': 0}\n",
    "            self.all_others = {'min': 0, 'max': 0}\n",
    "            for item in data:\n",
    "                if item[0].startswith('Alpha Acid'):\n",
    "                    # Extract the min, max and average acid values from \"7-10%8.5% avg\" and store them in a dict\n",
    "                    if item[1].startswith('Unkno'):\n",
    "                        self.alpha_acid = {'min': 0, 'max': 0, 'avg': 0}\n",
    "                    else:\n",
    "                        print(item[1])\n",
    "                        acid_values = item[1].split('%')[0:2]\n",
    "                        minMax = acid_values[0].split('-')\n",
    "                        self.alpha_acid = {'min': float(minMax[0]), 'max': float(minMax[1]), 'avg': float(acid_values[1])}\n",
    "                elif item[0].startswith('Beta Acid'):\n",
    "                    if item[1].startswith('Unkno'):\n",
    "                        self.beta_acid = {'min': 0, 'max': 0, 'avg': 0}\n",
    "                    else:\n",
    "                        acid_values = item[1].split('%')[0:2]\n",
    "                        minMax = acid_values[0].split('-')\n",
    "                        self.beta_acid = {'min': float(minMax[0]), 'max': float(minMax[1]), 'avg': float(acid_values[1])}\n",
    "                elif item[0].startswith('Alpha-Beta Ratio'):\n",
    "                    if item[1].startswith('Unkno'):\n",
    "                        self.alpha_beta_ratio = {'min': 0, 'max': 0, 'avg': 0}\n",
    "                    else:\n",
    "                        acid_values = item[1].replace(' ', '').replace('-', '').split(':1')[:-1]\n",
    "                        self.alpha_beta_ratio = {'min': float(acid_values[0]), 'max': float(acid_values[1]), 'avg': float(acid_values[2])}\n",
    "                elif item[0].startswith('Co-Humulone'):\n",
    "                    if item[1].startswith('Unkno'):\n",
    "                        self.co_humulone = {'min': 0, 'max': 0, 'avg': 0}\n",
    "                    else:\n",
    "                        acid_values = item[1].split('%')[0:2]\n",
    "                        minMax = acid_values[0].split('-')\n",
    "                        self.alpha_acid = {'min': float(minMax[0]), 'max': float(minMax[1]), 'avg': float(acid_values[1])}\n",
    "                elif item[0].startswith('Total Oil'):\n",
    "                    if item[1].startswith('Unkno'):\n",
    "                        self.total_oils = {'min': 0, 'max': 0, 'avg': 0}\n",
    "                    elif not \"-\" in item[1]:\n",
    "                        acid = item[1].replace(' ', '').split('mL')[0]\n",
    "                        self.total_oils = {'min': float(acid), 'max': float(acid), 'avg': float(acid)}\n",
    "                    else:\n",
    "                        acid_values = item[1].split('mL')[0:2]\n",
    "                        minMax = acid_values[0].split('-')\n",
    "                        self.total_oils = {'min': float(minMax[0]), 'max': float(minMax[1]), 'avg': float(acid_values[1])}\n",
    "                elif item[0].startswith('Myrcene'):\n",
    "                    if item[1].startswith('Unkno'):\n",
    "                        self.myrcene = {'min': 0, 'max': 0, 'avg': 0}\n",
    "                    else:\n",
    "                        acid_values = item[1].split('%')[0:2]\n",
    "                        minMax = acid_values[0].split('-')\n",
    "                        self.myrcene = {'min': float(minMax[0]), 'max': float(minMax[1]), 'avg': float(acid_values[1])}\n",
    "                elif item[0].startswith('Humulene'):\n",
    "                    if item[1].startswith('Unkno'):\n",
    "                        self.humulene = {'min': 0, 'max': 0, 'avg': 0}\n",
    "                    else:\n",
    "                        acid_values = item[1].split('%')[0:2]\n",
    "                        minMax = acid_values[0].split('-')\n",
    "                        self.humulene = {'min': float(minMax[0]), 'max': float(minMax[1]), 'avg': float(acid_values[1])}\n",
    "                elif item[0].startswith('Caryophyllene'):\n",
    "                    if item[1].startswith('Unkno'):\n",
    "                        self.caryophyllene = {'min': 0, 'max': 0, 'avg': 0}\n",
    "                    else:\n",
    "                        acid_values = item[1].split('%')[0:2]\n",
    "                        minMax = acid_values[0].split('-')\n",
    "                        self.caryophyllene = {'min': float(minMax[0]), 'max': float(minMax[1]), 'avg': float(acid_values[1])}\n",
    "                elif item[1].startswith('Farnesene'):\n",
    "                    if item[1].startswith('Unkno'):\n",
    "                        self.farnesene = {'min': 0, 'max': 0, 'avg': 0}\n",
    "                    else:\n",
    "                        acid_values = item[1].split('%')[0:2]\n",
    "                        minMax = acid_values[0].split('-')\n",
    "                        self.farnesene = {'min': float(minMax[0]), 'max': float(minMax[1]), 'avg': float(acid_values[1])}\n",
    "                elif item[1].startswith('All Others'):\n",
    "                    if item[1].startswith('Unkno'):\n",
    "                        self.all_others = {'min': 0, 'max': 0, 'avg': 0}\n",
    "                    else:\n",
    "                        acid_values = item[1].replace('%', '').split('-')\n",
    "                        self.all_others = {'min': float(minMax[0]), 'max': float(minMax[1])}\n",
    "\n",
    "        def __str__(self):\n",
    "            return self.name\n",
    "\n",
    "\n",
    "a = Hop(\"Test\", [['Total Oils (mL/100g)These highly volatile, not very soluble oils are easily boiled off, but add flavor and aroma to the finished beer when added very late in the boil or during fermentation. Learn more »', '1-3 mL2mL avg']])\n",
    "\n",
    "print(a.alpha_acid[\"avg\"])"
   ]
  },
  {
   "cell_type": "code",
   "execution_count": 81,
   "metadata": {},
   "outputs": [
    {
     "name": "stdout",
     "output_type": "stream",
     "text": [
      "312 hops to scrape\n",
      "1 Astra Hop\n",
      "7-10%8.5% avg\n",
      "2 Eclipse Hop\n",
      "15.7-19%17.4% avg\n",
      "3 Ella Hop\n",
      "13.3-19.2%16.3% avg\n",
      "4 Enigma Hop\n",
      "13.5-19.4%16.5% avg\n",
      "5 Feux-Coeur Francais Hop\n",
      "12-16%14% avg\n",
      "6 Galaxy Hop\n",
      "11-16%13.5% avg\n",
      "7 Helga Hop\n",
      "5.4-7.3%6.4% avg\n",
      "8 HPA-016 Hop\n",
      "15.7-18.7%17.2% avg\n",
      "9 Melba Hop\n",
      "7-10%8.5% avg\n",
      "10 Pride of Ringwood Hop\n",
      "7-11%9% avg\n",
      "11 Summer Hop\n",
      "5.6-6.4%6% avg\n",
      "12 Super Pride Hop\n",
      "12.5-16.3%14.4% avg\n",
      "13 Sylva Hop\n",
      "4-7.3%5.7% avg\n",
      "14 Topaz Hop\n",
      "13.7-20.1%16.9% avg\n",
      "15 Vic Secret Hop\n",
      "14-21.8%17.9% avg\n",
      "16 Vienna Gold Hop\n",
      "6-10%8% avg\n",
      "17 Canadian Redvine Hop\n",
      "5-6%5.5% avg\n"
     ]
    },
    {
     "ename": "IndexError",
     "evalue": "list index out of range",
     "output_type": "error",
     "traceback": [
      "\u001b[0;31m---------------------------------------------------------------------------\u001b[0m",
      "\u001b[0;31mIndexError\u001b[0m                                Traceback (most recent call last)",
      "Cell \u001b[0;32mIn[81], line 62\u001b[0m\n\u001b[1;32m     60\u001b[0m \u001b[39mprint\u001b[39m(hopNumber, hop_name)\n\u001b[1;32m     61\u001b[0m \u001b[39m# Add the data to the dataframe using pandas concat function\u001b[39;00m\n\u001b[0;32m---> 62\u001b[0m hopData\u001b[39m.\u001b[39mappend(Hop(hop_name, data))\n\u001b[1;32m     63\u001b[0m \u001b[39m# add the data to the dataframe\u001b[39;00m\n\u001b[1;32m     64\u001b[0m \u001b[39m# seperate the min and max values\u001b[39;00m\n\u001b[1;32m     67\u001b[0m hopNumber \u001b[39m+\u001b[39m\u001b[39m=\u001b[39m \u001b[39m1\u001b[39m\n",
      "Cell \u001b[0;32mIn[80], line 54\u001b[0m, in \u001b[0;36mHop.__init__\u001b[0;34m(self, name, data)\u001b[0m\n\u001b[1;32m     52\u001b[0m         acid_values \u001b[39m=\u001b[39m item[\u001b[39m1\u001b[39m]\u001b[39m.\u001b[39msplit(\u001b[39m'\u001b[39m\u001b[39m%\u001b[39m\u001b[39m'\u001b[39m)[\u001b[39m0\u001b[39m:\u001b[39m2\u001b[39m]\n\u001b[1;32m     53\u001b[0m         minMax \u001b[39m=\u001b[39m acid_values[\u001b[39m0\u001b[39m]\u001b[39m.\u001b[39msplit(\u001b[39m'\u001b[39m\u001b[39m-\u001b[39m\u001b[39m'\u001b[39m)\n\u001b[0;32m---> 54\u001b[0m         \u001b[39mself\u001b[39m\u001b[39m.\u001b[39malpha_acid \u001b[39m=\u001b[39m {\u001b[39m'\u001b[39m\u001b[39mmin\u001b[39m\u001b[39m'\u001b[39m: \u001b[39mfloat\u001b[39m(minMax[\u001b[39m0\u001b[39m]), \u001b[39m'\u001b[39m\u001b[39mmax\u001b[39m\u001b[39m'\u001b[39m: \u001b[39mfloat\u001b[39m(minMax[\u001b[39m1\u001b[39;49m]), \u001b[39m'\u001b[39m\u001b[39mavg\u001b[39m\u001b[39m'\u001b[39m: \u001b[39mfloat\u001b[39m(acid_values[\u001b[39m1\u001b[39m])}\n\u001b[1;32m     55\u001b[0m \u001b[39melif\u001b[39;00m item[\u001b[39m0\u001b[39m]\u001b[39m.\u001b[39mstartswith(\u001b[39m'\u001b[39m\u001b[39mTotal Oil\u001b[39m\u001b[39m'\u001b[39m):\n\u001b[1;32m     56\u001b[0m     \u001b[39mif\u001b[39;00m item[\u001b[39m1\u001b[39m]\u001b[39m.\u001b[39mstartswith(\u001b[39m'\u001b[39m\u001b[39mUnkno\u001b[39m\u001b[39m'\u001b[39m):\n",
      "\u001b[0;31mIndexError\u001b[0m: list index out of range"
     ]
    }
   ],
   "source": [
    "hopListURL = \"https://beermaverick.com/hops/\"\n",
    "\n",
    "page = requests.get(hopListURL)\n",
    "soup = BeautifulSoup(page.content, 'html.parser')\n",
    "results = soup.find(id='content')\n",
    "\n",
    "# Get all the hop links\n",
    "hopLinks = []\n",
    "for link in results.find_all('a'):\n",
    "    hopLinks.append(link.get('href'))\n",
    "\n",
    "# filter out the links that are not hops\n",
    "hopLinks = [x for x in hopLinks if \"/hop/\" in x]\n",
    "# print(hopLinks)\n",
    "\n",
    "# \"https://beermaverick.com/hop/brooklyn/\"\n",
    "\n",
    "def extractData(url):\n",
    "    page = requests.get(url)\n",
    "\n",
    "    soup = BeautifulSoup(page.content, 'html.parser')\n",
    "\n",
    "    results = soup.find(id='content')\n",
    "\n",
    "    hop_name = results.find('h1', class_='entry-title').text\n",
    "\n",
    "    data = []\n",
    "    table = soup.find('table', attrs={'class':'brewvalues'})\n",
    "\n",
    "    rows = table.find_all('tr')\n",
    "    for row in rows:\n",
    "        cols = row.find_all(['th'])\n",
    "        cols += row.find_all(['td'])\n",
    "        cols = [ele.text.strip() for ele in cols]\n",
    "        data.append([ele for ele in cols if ele]) # Get rid of empty values\n",
    "\n",
    "    # return hop_name and data\n",
    "    return hop_name, data\n",
    "\n",
    "\n",
    "# hop dataframe to store all the data\n",
    "\n",
    "\n",
    "\n",
    "# for each hop link, extract the data\n",
    "hopNumber = 1\n",
    "\n",
    "# DF to store name and length of data\n",
    "\n",
    "#TODO Enigma Hop has the most variables\n",
    "\n",
    "hopData = []\n",
    "\n",
    "print(len(hopLinks), \"hops to scrape\")\n",
    "for link in hopLinks:\n",
    "    url = \"https://beermaverick.com\" + link\n",
    "    hop_name, data = extractData(url)\n",
    "    if [\"Total Oil Breakdown:\"] in data:\n",
    "        data.remove([\"Total Oil Breakdown:\"])\n",
    "    print(hopNumber, hop_name)\n",
    "    # Add the data to the dataframe using pandas concat function\n",
    "    hopData.append(Hop(hop_name, data))\n",
    "    # add the data to the dataframe\n",
    "    # seperate the min and max values\n",
    "\n",
    "\n",
    "    hopNumber += 1\n",
    "    if hopNumber == 50:\n",
    "        break\n"
   ]
  },
  {
   "cell_type": "code",
   "execution_count": 69,
   "metadata": {},
   "outputs": [
    {
     "data": {
      "text/plain": [
       "'Ella Hop'"
      ]
     },
     "execution_count": 69,
     "metadata": {},
     "output_type": "execute_result"
    }
   ],
   "source": [
    "# sort the dataframe by the length of the data≠\n",
    "hopData[2].name"
   ]
  },
  {
   "cell_type": "code",
   "execution_count": 22,
   "metadata": {},
   "outputs": [
    {
     "data": {
      "text/plain": [
       "1.2"
      ]
     },
     "execution_count": 22,
     "metadata": {},
     "output_type": "execute_result"
    }
   ],
   "source": [
    "a = Hop(\"Enigma\", alpha_acid=1.2)\n",
    "\n",
    "a.alpha_acid"
   ]
  }
 ],
 "metadata": {
  "kernelspec": {
   "display_name": "Python 3",
   "language": "python",
   "name": "python3"
  },
  "language_info": {
   "codemirror_mode": {
    "name": "ipython",
    "version": 3
   },
   "file_extension": ".py",
   "mimetype": "text/x-python",
   "name": "python",
   "nbconvert_exporter": "python",
   "pygments_lexer": "ipython3",
   "version": "3.9.6"
  },
  "orig_nbformat": 4,
  "vscode": {
   "interpreter": {
    "hash": "31f2aee4e71d21fbe5cf8b01ff0e069b9275f58929596ceb00d14d90e3e16cd6"
   }
  }
 },
 "nbformat": 4,
 "nbformat_minor": 2
}
